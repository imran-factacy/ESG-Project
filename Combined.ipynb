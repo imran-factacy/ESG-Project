{
 "cells": [
  {
   "cell_type": "code",
   "execution_count": 1,
   "id": "8d731d9e",
   "metadata": {},
   "outputs": [],
   "source": [
    "# All Combined\n",
    "import pandas as pd\n",
    "import numpy as np"
   ]
  },
  {
   "cell_type": "markdown",
   "id": "cc5e2ab3",
   "metadata": {},
   "source": [
    "# V1"
   ]
  },
  {
   "cell_type": "code",
   "execution_count": 46,
   "id": "f8d250a2",
   "metadata": {
    "scrolled": false
   },
   "outputs": [
    {
     "name": "stderr",
     "output_type": "stream",
     "text": [
      "C:\\Users\\Dell\\AppData\\Local\\Temp\\ipykernel_14780\\2815831410.py:55: SettingWithCopyWarning: \n",
      "A value is trying to be set on a copy of a slice from a DataFrame\n",
      "\n",
      "See the caveats in the documentation: https://pandas.pydata.org/pandas-docs/stable/user_guide/indexing.html#returning-a-view-versus-a-copy\n",
      "  score_df['ESG_classification'][idx] = industry\n"
     ]
    }
   ],
   "source": [
    "import pandas as pd\n",
    "import numpy as np\n",
    "\n",
    "# Can be reffered as ANNU's DB that has CIN, NAME, IC\n",
    "# It is the Facatacy Database containing CIN, Company_name, industrial_classification(factacy_classification)\n",
    "dummy = pd.read_excel(r\"C:\\Users\\Dell\\Desktop\\dummy_esg.xlsx\")\n",
    "\n",
    "# This is the ESG table containing CIN, Company_name, ESG_score.\n",
    "# We need to add industrial classification of corresponding companies.\n",
    "score_df = pd.read_csv(r\"C:\\Users\\Dell\\Desktop\\compound_score.csv\")\n",
    "\n",
    "\n",
    "# Dictionary mapping of Factacy_classification into ESG_Classification\n",
    "mapping_dc = {\n",
    "    'financials': ['fintech and financial services', 'insur tech'],\n",
    "    \n",
    "    'consumer discretionary industry': ['edtech', 'food tech',\n",
    "                                        'real estate and construction services', 'retail',\"ai tech\",\n",
    "                                        \"spacetech\",\"gaming, esports and digital entertainment\",\n",
    "                                        \"online dating and matchmaking tech\",\"travel and hospitality tech\",\n",
    "                                        \"marketing services\", \"techwear\"],\n",
    "    \n",
    "    'health care': ['healthtech', 'veterinary activities'],\n",
    "    \n",
    "    'industrials': ['autotech', 'home tech', 'farmtech', 'manufacturing'],\n",
    "    \n",
    "    'utilities': ['env tech', 'life science', 'transportation and logistics tech', 'personal care products and fashion tech'],\n",
    "    \n",
    "    'telecom': ['business services', 'media and entertainment', 'telecommunication'],\n",
    "    \n",
    "    'information technology': ['EMpTY'],\n",
    "    \n",
    "    'consumer staples': [\"ecommerce tech\",\"ride hailing services\",\"apparel industry\",\"professional services\",\n",
    "                         \"travel and hospitality\",\"consumer electronics\",\"cloth manufacturing\"],\n",
    "    \n",
    "}\n",
    "\n",
    "# Creating ESG_classification column if it doesn't exist. \n",
    "if not score_df.columns.str.contains(\"ESG_classification\").any():\n",
    "    score_df[\"ESG_classification\"] = np.nan\n",
    "\n",
    "# Finding the CIN of ESG table and searching them in factacy database to retrieve corresponding factacy_classification\n",
    "industry = np.nan\n",
    "for cin in score_df.CIN:\n",
    "    #cin = cin.lower()\n",
    "    if cin in set(dummy.CIN):\n",
    "        industry = dummy[dummy['CIN'] == cin][\"CLASSIFICATION\"]\n",
    "\n",
    "        industry = industry.reset_index(drop=True)\n",
    "        industry = industry[0]\n",
    "        if isinstance(industry, str):\n",
    "            industry=industry.lower().strip()\n",
    "        \n",
    "        idx = score_df[score_df[\"CIN\"] == cin].index[0]\n",
    "        score_df['ESG_classification'][idx] = industry\n",
    "        \n",
    "        # mapping Logic to map Factacy_classification to ESG_classification\n",
    "        list(map(lambda x: score_df['ESG_classification'].replace(mapping_dc[x], x, inplace=True), mapping_dc))\n",
    "\n",
    "score_df.to_csv(r\"C:\\Users\\Dell\\Desktop\\score_esg_industry.csv\", index=False)\n",
    "\n",
    "\n",
    "# 2nd Script\n",
    "#df = pd.read_csv(r\"C:\\Users\\Dell\\Desktop\\score_esg_industry.csv\")\n",
    "\n",
    "compound_score_dc = {\"energy\" : (0.4, 0.4, 0.2),\n",
    "                     \"materials\" : (0.1, 0.7, 0.2),\n",
    "                     \"industrials\" : (0.2, 0.4, 0.4),\n",
    "                     \"consumer discretionary industry\" : (0.1, 0.4, 0.5), #consumer discretionary industry\n",
    "                     \"consumer staples\" : (0.4, 0.2, 0.4),\n",
    "                     \"health care\" : (0.2, 0.5, 0.3),\n",
    "                     \"financials\" : (0.1, 0.5, 0.4),\n",
    "                     \"information technology\" : (0.2, 0.4, 0.4),\n",
    "                     \"telecom\" : (0.25, 0.35, 0.4),\n",
    "                     \"utilities\" : (0.4, 0.18, 0.42),\n",
    "                     np.nan:(0, 0, 0)\n",
    "                    }\n",
    "\n",
    "score_df[\"compound_score\"] = score_df.apply(lambda row: row['E_SCORE']*compound_score_dc[row[\"ESG_classification\"]][0]\n",
    "                                          + row['S_SCORE']*compound_score_dc[row[\"ESG_classification\"]][1]\n",
    "                                          + row['G_SCORE']*compound_score_dc[row[\"ESG_classification\"]][2], axis=1)\n",
    "\n",
    "\n",
    "score_df.to_csv(r\"C:\\Users\\Dell\\Desktop\\compound_score.csv\", index=False)"
   ]
  },
  {
   "cell_type": "code",
   "execution_count": null,
   "id": "3cdd7138",
   "metadata": {},
   "outputs": [],
   "source": []
  },
  {
   "cell_type": "code",
   "execution_count": null,
   "id": "fbdc8e1d",
   "metadata": {},
   "outputs": [],
   "source": []
  },
  {
   "cell_type": "markdown",
   "id": "c78f096f",
   "metadata": {},
   "source": [
    "# v2"
   ]
  },
  {
   "cell_type": "code",
   "execution_count": 71,
   "id": "a606e300",
   "metadata": {},
   "outputs": [],
   "source": [
    "# Dictionary mapping of Factacy_classification into ESG_Classification\n",
    "mapping_dc = {\n",
    "    'financials': ['fintech and financial services', 'insur tech'],\n",
    "    \n",
    "    'consumer discretionary industry': ['edtech', 'food tech',\n",
    "                                        'real estate and construction services', 'retail',\"ai tech\",\n",
    "                                        \"spacetech\",\"gaming, esports and digital entertainment\",\n",
    "                                        \"online dating and matchmaking tech\",\"travel and hospitality tech\",\n",
    "                                        \"marketing services\", \"techwear\"],\n",
    "    \n",
    "    'health care': ['healthtech', 'veterinary activities'],\n",
    "    \n",
    "    'industrials': ['autotech', 'home tech', 'farmtech', 'manufacturing'],\n",
    "    \n",
    "    'utilities': ['env tech', 'life science', 'transportation and logistics tech', 'personal care products and fashion tech'],\n",
    "    \n",
    "    'telecom': ['business services', 'media and entertainment', 'telecommunication'],\n",
    "    \n",
    "    'information technology': ['EMpTY'],\n",
    "    \n",
    "    'consumer staples': [\"ecommerce tech\",\"ride hailing services\",\"apparel industry\",\"professional services\",\n",
    "                         \"travel and hospitality\",\"consumer electronics\",\"cloth manufacturing\"],\n",
    "}\n",
    "def map_classification(df):\n",
    "    list(map(lambda x: df[\"ESG_classification\"].replace(mapping_dc[x], x, inplace=True), mapping_dc))\n",
    "\n",
    "compound_score_dc = {\"energy\" : (0.4, 0.4, 0.2),\n",
    "                     \"materials\" : (0.1, 0.7, 0.2),\n",
    "                     \"industrials\" : (0.2, 0.4, 0.4),\n",
    "                     \"consumer discretionary industry\" : (0.1, 0.4, 0.5), #consumer discretionary industry\n",
    "                     \"consumer staples\" : (0.4, 0.2, 0.4),\n",
    "                     \"health care\" : (0.2, 0.5, 0.3),\n",
    "                     \"financials\" : (0.1, 0.5, 0.4),\n",
    "                     \"information technology\" : (0.2, 0.4, 0.4),\n",
    "                     \"telecom\" : (0.25, 0.35, 0.4),\n",
    "                     \"utilities\" : (0.4, 0.18, 0.42),\n",
    "                     np.nan:(0, 0, 0)\n",
    "                    }\n",
    "\n",
    "def compound_score(df):\n",
    "    df[\"compound_score\"] = df.apply(lambda row: row['E_SCORE']*compound_score_dc[row[\"ESG_classification\"]][0]\n",
    "                                          + row['S_SCORE']*compound_score_dc[row[\"ESG_classification\"]][1]\n",
    "                                          + row['G_SCORE']*compound_score_dc[row[\"ESG_classification\"]][2], axis=1)\n",
    "\n",
    "\n",
    "\n",
    "# New file coming with CIN, NAME, Industry_classification\n",
    "new_df = pd.read_excel(r\"C:\\Users\\Dell\\Desktop\\cin_name_ic.xlsx\")\n",
    "\n",
    "#compund score base file\n",
    "score_df = pd.read_csv(r\"C:\\Users\\Dell\\Desktop\\compound_score.csv\")\n",
    "\n",
    "# Stripping columns\n",
    "str_col = [\"CIN\", \"COMPANY_NAME\", \"ESG_classification\"]\n",
    "for col in str_col:\n",
    "    new_df[f\"{col}\"] = new_df[f\"{col}\"].str.strip()\n",
    "    score_df[f\"{col}\"] = score_df[f\"{col}\"].str.strip()\n",
    "\n",
    "# Adding those columns which are not present in new df that has CIN, NAME, IC\n",
    "for col_name in score_df.columns:\n",
    "    if col_name not in new_df.columns:\n",
    "        new_df[col_name] = 0  #np.nan\n",
    "\n",
    "new_df = new_df[score_df.columns]\n",
    "\n",
    "for cin in new_df.CIN:\n",
    "    if cin in set(score_df.CIN):\n",
    "        new_df = new_df[new_df['CIN'] != f'{cin}']\n",
    "\n",
    "map_classification(new_df)\n",
    "\n",
    "score_df = pd.concat((score_df, new_df))\n",
    "compound_score(score_df)\n",
    "\n",
    "score_df.to_csv(r\"C:\\Users\\Dell\\Desktop\\compound_score.csv\", index=False)"
   ]
  },
  {
   "cell_type": "code",
   "execution_count": null,
   "id": "a1a38bc5",
   "metadata": {},
   "outputs": [],
   "source": []
  },
  {
   "cell_type": "code",
   "execution_count": null,
   "id": "c49f4209",
   "metadata": {},
   "outputs": [],
   "source": []
  },
  {
   "cell_type": "code",
   "execution_count": null,
   "id": "09c692b1",
   "metadata": {},
   "outputs": [],
   "source": []
  },
  {
   "cell_type": "code",
   "execution_count": null,
   "id": "ea2a7bc3",
   "metadata": {},
   "outputs": [],
   "source": []
  },
  {
   "cell_type": "code",
   "execution_count": null,
   "id": "19841154",
   "metadata": {},
   "outputs": [],
   "source": []
  },
  {
   "cell_type": "code",
   "execution_count": null,
   "id": "6281328e",
   "metadata": {},
   "outputs": [],
   "source": []
  },
  {
   "cell_type": "code",
   "execution_count": null,
   "id": "c36aaa99",
   "metadata": {},
   "outputs": [],
   "source": []
  },
  {
   "cell_type": "code",
   "execution_count": null,
   "id": "610dbb3d",
   "metadata": {},
   "outputs": [],
   "source": []
  },
  {
   "cell_type": "code",
   "execution_count": 202,
   "id": "4f5df499",
   "metadata": {},
   "outputs": [],
   "source": [
    "# CORRECT\n",
    "def arm(num):\n",
    "    l = 0    #len of number\n",
    "    #l = len(str(num))\n",
    "    total = 0\n",
    "    num2 = num\n",
    "    num3 = num\n",
    "    while num2 > 0:\n",
    "        num2 = num2//10\n",
    "        l+=1\n",
    "    \n",
    "    while num > 0:\n",
    "        last = num % 10\n",
    "        total += last**l\n",
    "        num = num//10\n",
    "        #num = num//10\n",
    "        #count+=1\n",
    "    if total==num3:\n",
    "        print(total)\n",
    "        return total\n",
    "    pass"
   ]
  },
  {
   "cell_type": "code",
   "execution_count": 248,
   "id": "46665102",
   "metadata": {
    "collapsed": true
   },
   "outputs": [
    {
     "name": "stdout",
     "output_type": "stream",
     "text": [
      "0\n",
      "1\n",
      "2\n",
      "3\n",
      "4\n",
      "5\n",
      "6\n",
      "7\n",
      "8\n",
      "9\n",
      "153\n",
      "370\n",
      "371\n",
      "407\n",
      "1634\n",
      "8208\n",
      "9474\n"
     ]
    }
   ],
   "source": [
    "for i in range(10000):\n",
    "    arm(i)"
   ]
  },
  {
   "cell_type": "code",
   "execution_count": 274,
   "id": "2db3fbb0",
   "metadata": {},
   "outputs": [
    {
     "name": "stdout",
     "output_type": "stream",
     "text": [
      "6\n",
      "3\n"
     ]
    },
    {
     "data": {
      "text/plain": [
       "32"
      ]
     },
     "execution_count": 274,
     "metadata": {},
     "output_type": "execute_result"
    }
   ],
   "source": [
    "def power(a, n):\n",
    "    res = a\n",
    "    flag = 0\n",
    "    while n>1:\n",
    "        print(n)\n",
    "        res = res*res\n",
    "        if n%2==1:\n",
    "            flag = True\n",
    "            #res = res*a\n",
    "        \n",
    "        n = n//2\n",
    "    if flag:\n",
    "        res = res*a\n",
    "    \n",
    "    return res\n",
    "power(2,6)"
   ]
  },
  {
   "cell_type": "code",
   "execution_count": null,
   "id": "7dfd4f53",
   "metadata": {},
   "outputs": [],
   "source": [
    "#res\n",
    "64"
   ]
  },
  {
   "cell_type": "code",
   "execution_count": null,
   "id": "8907fc17",
   "metadata": {},
   "outputs": [],
   "source": [
    "(2,6)"
   ]
  },
  {
   "cell_type": "code",
   "execution_count": null,
   "id": "e8033dd8",
   "metadata": {},
   "outputs": [],
   "source": [
    "(2)^2"
   ]
  },
  {
   "cell_type": "code",
   "execution_count": null,
   "id": "bb7675c4",
   "metadata": {},
   "outputs": [],
   "source": []
  },
  {
   "cell_type": "code",
   "execution_count": null,
   "id": "d5fbab2b",
   "metadata": {},
   "outputs": [],
   "source": []
  },
  {
   "cell_type": "code",
   "execution_count": null,
   "id": "9859109c",
   "metadata": {},
   "outputs": [],
   "source": []
  },
  {
   "cell_type": "code",
   "execution_count": null,
   "id": "743df979",
   "metadata": {},
   "outputs": [],
   "source": []
  },
  {
   "cell_type": "code",
   "execution_count": null,
   "id": "0266212f",
   "metadata": {},
   "outputs": [],
   "source": []
  }
 ],
 "metadata": {
  "kernelspec": {
   "display_name": "Python 3 (ipykernel)",
   "language": "python",
   "name": "python3"
  },
  "language_info": {
   "codemirror_mode": {
    "name": "ipython",
    "version": 3
   },
   "file_extension": ".py",
   "mimetype": "text/x-python",
   "name": "python",
   "nbconvert_exporter": "python",
   "pygments_lexer": "ipython3",
   "version": "3.11.3"
  }
 },
 "nbformat": 4,
 "nbformat_minor": 5
}

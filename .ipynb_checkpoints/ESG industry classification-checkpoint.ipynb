{
 "cells": [
  {
   "cell_type": "code",
   "execution_count": null,
   "id": "f4e0d367",
   "metadata": {},
   "outputs": [],
   "source": [
    "# This code will be integrated with ranny's industry classification output table"
   ]
  },
  {
   "cell_type": "code",
   "execution_count": 273,
   "id": "9ed74d23",
   "metadata": {},
   "outputs": [
    {
     "name": "stderr",
     "output_type": "stream",
     "text": [
      "C:\\Users\\Dell\\AppData\\Local\\Temp\\ipykernel_11100\\2070078403.py:55: SettingWithCopyWarning: \n",
      "A value is trying to be set on a copy of a slice from a DataFrame\n",
      "\n",
      "See the caveats in the documentation: https://pandas.pydata.org/pandas-docs/stable/user_guide/indexing.html#returning-a-view-versus-a-copy\n",
      "  score_df['ESG_classification'][idx] = industry\n"
     ]
    }
   ],
   "source": [
    "import pandas as pd\n",
    "import numpy as np\n",
    "\n",
    "# It is the Facatacy Database containing CIN, Company_name, industrial_classification(factacy_classification)\n",
    "dummy = pd.read_excel(r\"C:\\Users\\Dell\\Desktop\\dummy_esg.xlsx\")\n",
    "\n",
    "# This is the ESG table containing CIN, Company_name, ESG_score.\n",
    "# We need to add industrial classification of corresponding companies.\n",
    "score_df = pd.read_excel(r\"C:\\Users\\Dell\\Desktop\\esg_score - Copy.xlsx\")\n",
    "\n",
    "\n",
    "# Dictionary mapping of Factacy_classification into ESG_Classification\n",
    "mapping_dc = {\n",
    "    'financials': ['fintech and financial services', 'insur tech'],\n",
    "    \n",
    "    'consumer discretionary industry': ['edtech', 'food tech',\n",
    "                                        'real estate and construction services', 'retail',\"ai tech\",\n",
    "                                        \"spacetech\",\"gaming, esports and digital entertainment\",\n",
    "                                        \"online dating and matchmaking tech\",\"travel and hospitality tech\",\n",
    "                                        \"marketing services\", \"techwear\"],\n",
    "    \n",
    "    'health care': ['healthtech', 'veterinary activities'],\n",
    "    \n",
    "    'industrials': ['autotech', 'home tech', 'farmtech', 'manufacturing'],\n",
    "    \n",
    "    'utilities': ['life science', 'utilities', 'transportation and logistics tech', 'personal care products and fashion tech'],\n",
    "    \n",
    "    'telecom': ['business services', 'media and entertainment', 'telecommunication'],\n",
    "    \n",
    "    'information technology': ['EMpTY'],\n",
    "    \n",
    "    'consumer staples': [\"ecommerce tech\",\"ride hailing services\",\"apparel industry\",\"professional services\",\n",
    "                         \"travel and hospitality\",\"consumer electronics\",\"cloth manufacturing\"],\n",
    "    \n",
    "    'telecom': ['telecommunication', 'business services', 'media and entertainment']\n",
    "}\n",
    "\n",
    "# Creating ESG_classification column if it doesn't exist. \n",
    "if not score_df.columns.str.contains(\"ESG_classification\").any():\n",
    "    score_df[\"ESG_classification\"] = np.nan\n",
    "\n",
    "# Finding the CIN of ESG table and searching them in factacy database to retrieve corresponding factacy_classification\n",
    "industry = np.nan\n",
    "for cin in score_df.CIN:\n",
    "    #cin = cin.lower()\n",
    "    if cin in set(dummy.CIN):\n",
    "        industry = dummy[dummy['CIN'] == cin][\"CLASSIFICATION\"]\n",
    "\n",
    "        industry = industry.reset_index(drop=True)\n",
    "        industry = industry[0]\n",
    "        if isinstance(industry, str):\n",
    "            industry=industry.lower().strip()\n",
    "        \n",
    "        idx = score_df[score_df[\"CIN\"] == cin].index[0]\n",
    "        score_df['ESG_classification'][idx] = industry\n",
    "        \n",
    "        # mapping Logic to map Factacy_classification to ESG_classification\n",
    "        list(map(lambda x: score_df['ESG_classification'].replace(mapping_dc[x], x, inplace=True), mapping_dc))"
   ]
  },
  {
   "cell_type": "code",
   "execution_count": 274,
   "id": "82a97aa1",
   "metadata": {},
   "outputs": [],
   "source": [
    "score_df.to_csv(r\"C:\\Users\\Dell\\Desktop\\score_esg_industry.csv\", index=False)"
   ]
  },
  {
   "cell_type": "code",
   "execution_count": 246,
   "id": "c07147bf",
   "metadata": {},
   "outputs": [],
   "source": []
  },
  {
   "cell_type": "code",
   "execution_count": null,
   "id": "4a672c2d",
   "metadata": {},
   "outputs": [],
   "source": []
  },
  {
   "cell_type": "code",
   "execution_count": null,
   "id": "a583ae44",
   "metadata": {},
   "outputs": [],
   "source": []
  },
  {
   "cell_type": "code",
   "execution_count": null,
   "id": "5a7ac741",
   "metadata": {},
   "outputs": [],
   "source": []
  }
 ],
 "metadata": {
  "kernelspec": {
   "display_name": "Python 3 (ipykernel)",
   "language": "python",
   "name": "python3"
  },
  "language_info": {
   "codemirror_mode": {
    "name": "ipython",
    "version": 3
   },
   "file_extension": ".py",
   "mimetype": "text/x-python",
   "name": "python",
   "nbconvert_exporter": "python",
   "pygments_lexer": "ipython3",
   "version": "3.11.3"
  }
 },
 "nbformat": 4,
 "nbformat_minor": 5
}
